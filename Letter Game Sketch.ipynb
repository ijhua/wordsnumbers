{
 "cells": [
  {
   "cell_type": "markdown",
   "id": "b6fa5782",
   "metadata": {},
   "source": [
    "# Word game\n",
    "https://wiki.apterous.org/Letters_game\n",
    "\n",
    "Contestant chooses 9 letters by selecting either a vowel or a consonant until there is a total of 9 letters. The player can choose the letters in any order, but the selection must include at least 4 consonants and 3 vowels, hence there are only three valid choices in modern Countdown: 3 vowels, 6 consonants; 4 vowels, 5 consonants; and 5 vowels, 4 consonants\n",
    "\n",
    "Distribution of letters: http://www.thecountdownpage.com/letters.htm\n",
    "\n",
    "Steps:\n",
    "1. Create the letter distribution\n",
    "2. Select the letters. There must be a minimum of 3 vowels and minimum of 4 consonants. Maximum of 5 vowels and 6 consonants. \n",
    "3. Create the checker. One to check the user input. Another to find if there's a longer word. "
   ]
  },
  {
   "cell_type": "markdown",
   "id": "4aff923c",
   "metadata": {},
   "source": [
    "# Letter Pickers"
   ]
  },
  {
   "cell_type": "code",
   "execution_count": 36,
   "id": "2e2412f9",
   "metadata": {},
   "outputs": [],
   "source": [
    "#https://stackoverflow.com/questions/2570690/python-algorithm-to-randomly-select-a-key-based-on-proportionality-weight\n",
    "import random\n",
    "\n",
    "def weighted_pick(dic):\n",
    "    r = random.uniform(0, sum(dic.values()))\n",
    "    s = 0.0\n",
    "    for k, w in dic.items():\n",
    "        s += w\n",
    "        if r < s: return k\n",
    "    return k"
   ]
  },
  {
   "cell_type": "code",
   "execution_count": 37,
   "id": "9a846ca6",
   "metadata": {},
   "outputs": [],
   "source": [
    "def letter_classifier(st):\n",
    "    vowel_count = 0\n",
    "    consonant_count = 0\n",
    "    for i in st:\n",
    "        if i.casefold() in 'aeiou':\n",
    "            vowel_count += 1\n",
    "        elif i.casefold() in 'bcdfghjklmnpqrstvwxyz':\n",
    "            consonant_count += 1\n",
    "    return vowel_count,consonant_count"
   ]
  },
  {
   "cell_type": "code",
   "execution_count": 38,
   "id": "43117004",
   "metadata": {},
   "outputs": [],
   "source": [
    "def letter_adder(dic):\n",
    "    letter = weighted_pick(dic)\n",
    "    dic[letter] -=1\n",
    "    return letter"
   ]
  },
  {
   "cell_type": "code",
   "execution_count": 42,
   "id": "b61699b6",
   "metadata": {},
   "outputs": [
    {
     "name": "stdout",
     "output_type": "stream",
     "text": [
      "(V)owel or (C)onsonant?v\n",
      "e\n",
      "(V)owel or (C)onsonant?v\n",
      "a\n",
      "(V)owel or (C)onsonant?v\n",
      "e\n",
      "(V)owel or (C)onsonant?v\n",
      "e\n",
      "(V)owel or (C)onsonant?v\n",
      "e\n",
      "Maximum number of vowels reached. Filling with consonants.\n",
      "b\n",
      "Maximum number of vowels reached. Filling with consonants.\n",
      "t\n",
      "Maximum number of vowels reached. Filling with consonants.\n",
      "t\n",
      "Maximum number of vowels reached. Filling with consonants.\n",
      "t\n",
      "['E', 'A', 'E', 'E', 'E', 'B', 'T', 'T', 'T']\n"
     ]
    }
   ],
   "source": [
    "vowels = {\"a\":15,\"e\":21,\"i\":13,\"o\":13,\"u\":5}\n",
    "consonants = {\"b\":2,\"c\":3,\"d\":6,\"f\":2,\"g\":3,\"h\":2,\"j\":1,\"k\":1,\"l\":5,\"m\":4,\"n\":8,\"p\":4,\"q\":1,\"r\":9,\"s\":9,\"t\":9,\"v\":1,\"w\":1,\"x\":1,\"y\":1,\"z\":1}\n",
    "letters = []\n",
    "while len(letters)<9:\n",
    "    choice = input(\"(V)owel or (C)onsonant?\")\n",
    "    reqs = True\n",
    "    if choice.lower() == \"v\":\n",
    "        let = letter_adder(vowels)\n",
    "        print(let)\n",
    "        letters.append(let)\n",
    "    elif choice.lower() == \"c\":\n",
    "        let = letter_adder(consonants)\n",
    "        print(let)\n",
    "        letters.append(let)\n",
    "    else:\n",
    "        print(\"Choose a vowel by typing V, or a consonant by typing C.\")\n",
    "    \n",
    "    letters_string = \"\".join(letters)\n",
    "    v,c = letter_classifier(letters_string)\n",
    "    \n",
    "    while c == 6 and len(letters)<9:\n",
    "        print(\"Maximum number of consonants reached. Filling with vowels.\")\n",
    "        let = letter_adder(vowels)\n",
    "        print(let)\n",
    "        letters.append(let)\n",
    "    while v == 5 and len(letters)<9:\n",
    "        print(\"Maximum number of vowels reached. Filling with consonants.\")\n",
    "        let = letter_adder(consonants)\n",
    "        print(let)\n",
    "        letters.append(let) \n",
    "\n",
    "print([x.upper() for x in letters])"
   ]
  },
  {
   "cell_type": "markdown",
   "id": "16bc515d",
   "metadata": {},
   "source": [
    "# Word input"
   ]
  },
  {
   "cell_type": "code",
   "execution_count": 44,
   "id": "cd39f11b",
   "metadata": {},
   "outputs": [
    {
     "name": "stdout",
     "output_type": "stream",
     "text": [
      "What is your word?beat\n"
     ]
    }
   ],
   "source": [
    "word = input(\"What is your word?\")"
   ]
  },
  {
   "cell_type": "markdown",
   "id": "01965250",
   "metadata": {},
   "source": [
    "# Word List"
   ]
  },
  {
   "cell_type": "code",
   "execution_count": 45,
   "id": "ca896cfe",
   "metadata": {},
   "outputs": [],
   "source": [
    "import pandas as pd"
   ]
  },
  {
   "cell_type": "code",
   "execution_count": 46,
   "id": "672470f6",
   "metadata": {},
   "outputs": [],
   "source": [
    "df = pd.read_excel(\"Words.xlsx\", engine='openpyxl')"
   ]
  },
  {
   "cell_type": "code",
   "execution_count": 47,
   "id": "183aa5cd",
   "metadata": {},
   "outputs": [
    {
     "data": {
      "text/html": [
       "<div>\n",
       "<style scoped>\n",
       "    .dataframe tbody tr th:only-of-type {\n",
       "        vertical-align: middle;\n",
       "    }\n",
       "\n",
       "    .dataframe tbody tr th {\n",
       "        vertical-align: top;\n",
       "    }\n",
       "\n",
       "    .dataframe thead th {\n",
       "        text-align: right;\n",
       "    }\n",
       "</style>\n",
       "<table border=\"1\" class=\"dataframe\">\n",
       "  <thead>\n",
       "    <tr style=\"text-align: right;\">\n",
       "      <th></th>\n",
       "      <th>Rank</th>\n",
       "      <th>Alphagram</th>\n",
       "      <th>Word(s)</th>\n",
       "      <th>Length</th>\n",
       "      <th>Weighted Usefulness Score</th>\n",
       "      <th>Single Word</th>\n",
       "    </tr>\n",
       "  </thead>\n",
       "  <tbody>\n",
       "    <tr>\n",
       "      <th>0</th>\n",
       "      <td>89208</td>\n",
       "      <td>IX</td>\n",
       "      <td>XI</td>\n",
       "      <td>2</td>\n",
       "      <td>0.0</td>\n",
       "      <td>XI</td>\n",
       "    </tr>\n",
       "    <tr>\n",
       "      <th>1</th>\n",
       "      <td>89580</td>\n",
       "      <td>IL</td>\n",
       "      <td>LI</td>\n",
       "      <td>2</td>\n",
       "      <td>0.0</td>\n",
       "      <td>LI</td>\n",
       "    </tr>\n",
       "    <tr>\n",
       "      <th>2</th>\n",
       "      <td>89691</td>\n",
       "      <td>HI</td>\n",
       "      <td>HI</td>\n",
       "      <td>2</td>\n",
       "      <td>0.0</td>\n",
       "      <td>HI</td>\n",
       "    </tr>\n",
       "    <tr>\n",
       "      <th>3</th>\n",
       "      <td>89843</td>\n",
       "      <td>IT</td>\n",
       "      <td>TI/IT</td>\n",
       "      <td>2</td>\n",
       "      <td>0.0</td>\n",
       "      <td>TI</td>\n",
       "    </tr>\n",
       "    <tr>\n",
       "      <th>4</th>\n",
       "      <td>90533</td>\n",
       "      <td>AA</td>\n",
       "      <td>AA</td>\n",
       "      <td>2</td>\n",
       "      <td>0.0</td>\n",
       "      <td>AA</td>\n",
       "    </tr>\n",
       "    <tr>\n",
       "      <th>...</th>\n",
       "      <td>...</td>\n",
       "      <td>...</td>\n",
       "      <td>...</td>\n",
       "      <td>...</td>\n",
       "      <td>...</td>\n",
       "      <td>...</td>\n",
       "    </tr>\n",
       "    <tr>\n",
       "      <th>104087</th>\n",
       "      <td>99903</td>\n",
       "      <td>ADEGGGIZZ</td>\n",
       "      <td>ZIGZAGGED</td>\n",
       "      <td>9</td>\n",
       "      <td>0.0</td>\n",
       "      <td>ZIGZAGGED</td>\n",
       "    </tr>\n",
       "    <tr>\n",
       "      <th>104088</th>\n",
       "      <td>99904</td>\n",
       "      <td>EGILOOOZZ</td>\n",
       "      <td>ZOOLOGIZE</td>\n",
       "      <td>9</td>\n",
       "      <td>0.0</td>\n",
       "      <td>ZOOLOGIZE</td>\n",
       "    </tr>\n",
       "    <tr>\n",
       "      <th>104089</th>\n",
       "      <td>99905</td>\n",
       "      <td>AHLOOPTYZ</td>\n",
       "      <td>ZOOPHYTAL</td>\n",
       "      <td>9</td>\n",
       "      <td>0.0</td>\n",
       "      <td>ZOOPHYTAL</td>\n",
       "    </tr>\n",
       "    <tr>\n",
       "      <th>104090</th>\n",
       "      <td>99906</td>\n",
       "      <td>HNOOOPTYZ</td>\n",
       "      <td>ZOOPHYTON/PHYTOZOON</td>\n",
       "      <td>9</td>\n",
       "      <td>0.0</td>\n",
       "      <td>ZOOPHYTON</td>\n",
       "    </tr>\n",
       "    <tr>\n",
       "      <th>104091</th>\n",
       "      <td>99907</td>\n",
       "      <td>HOOOPRTYZ</td>\n",
       "      <td>ZOOTROPHY</td>\n",
       "      <td>9</td>\n",
       "      <td>0.0</td>\n",
       "      <td>ZOOTROPHY</td>\n",
       "    </tr>\n",
       "  </tbody>\n",
       "</table>\n",
       "<p>104092 rows × 6 columns</p>\n",
       "</div>"
      ],
      "text/plain": [
       "         Rank  Alphagram              Word(s)  Length  \\\n",
       "0       89208         IX                   XI       2   \n",
       "1       89580         IL                   LI       2   \n",
       "2       89691         HI                   HI       2   \n",
       "3       89843         IT                TI/IT       2   \n",
       "4       90533         AA                   AA       2   \n",
       "...       ...        ...                  ...     ...   \n",
       "104087  99903  ADEGGGIZZ            ZIGZAGGED       9   \n",
       "104088  99904  EGILOOOZZ            ZOOLOGIZE       9   \n",
       "104089  99905  AHLOOPTYZ            ZOOPHYTAL       9   \n",
       "104090  99906  HNOOOPTYZ  ZOOPHYTON/PHYTOZOON       9   \n",
       "104091  99907  HOOOPRTYZ            ZOOTROPHY       9   \n",
       "\n",
       "        Weighted Usefulness Score Single Word  \n",
       "0                             0.0          XI  \n",
       "1                             0.0          LI  \n",
       "2                             0.0          HI  \n",
       "3                             0.0          TI  \n",
       "4                             0.0          AA  \n",
       "...                           ...         ...  \n",
       "104087                        0.0   ZIGZAGGED  \n",
       "104088                        0.0   ZOOLOGIZE  \n",
       "104089                        0.0   ZOOPHYTAL  \n",
       "104090                        0.0   ZOOPHYTON  \n",
       "104091                        0.0   ZOOTROPHY  \n",
       "\n",
       "[104092 rows x 6 columns]"
      ]
     },
     "execution_count": 47,
     "metadata": {},
     "output_type": "execute_result"
    }
   ],
   "source": [
    "df"
   ]
  },
  {
   "cell_type": "markdown",
   "id": "1edd938f",
   "metadata": {},
   "source": [
    "# Word Checker"
   ]
  },
  {
   "cell_type": "code",
   "execution_count": 185,
   "id": "7a357ea4",
   "metadata": {},
   "outputs": [],
   "source": [
    "def word_check(st):\n",
    "    #convert string to set in order to match alphagram\n",
    "    st = st.upper()\n",
    "    word = \"\".join(sorted(st))\n",
    "    word_length = len(st)\n",
    "    #shorten the length where the word is searched for\n",
    "    ref = df[df[\"Length\"] ==4]\n",
    "    #does the alphagram match?\n",
    "    alpha_match = (ref[\"Alphagram\"]==word).any()\n",
    "    if alpha_match:\n",
    "        #sometimes there are multiple words that match the alphagram, so need to make sure that the word was spelled correctly\n",
    "        ref_word = ref[(ref[\"Alphagram\"]==word)][\"Word(s)\"].values[0]\n",
    "        if \"/\" in ref_word:\n",
    "            ref_words = ref_word.split(\"/\")\n",
    "            if st in ref_words:\n",
    "                print(st + \"is an acceptable word.\")\n",
    "                return True\n",
    "            else:\n",
    "                print(st + \"is not an acceptable word.\")\n",
    "                return False\n",
    "        elif st == ref_word:\n",
    "            print(st + \"is an acceptable word.\")\n",
    "            return True\n",
    "        else:\n",
    "            print(st + \"is not an acceptable word.\")\n",
    "            return False\n",
    "    else:\n",
    "        print(st + \"is not an acceptable word.\")\n",
    "        return False"
   ]
  },
  {
   "cell_type": "code",
   "execution_count": 186,
   "id": "1eb35a62",
   "metadata": {},
   "outputs": [],
   "source": [
    "def letter_check(st,ref):\n",
    "    #need to check that the user input string uses only letters from the letter list and doesn't go over the limit\n",
    "    #can't use sets because repeated letters are OK\n",
    "    word_list = list(st)\n",
    "    temp_letters = list(ref)\n",
    "    while (len(word_list))>0:\n",
    "        if word_list[0] in temp_letters:\n",
    "            temp_letters.remove(word_list[0])\n",
    "            word_list.remove(word_list[0])\n",
    "        else:\n",
    "            print(\"Word is not valid. \"+word_list[0].upper() +\" is not in the list of acceptable letters\")\n",
    "            return False\n",
    "            break\n",
    "    if len(word_list)==0:\n",
    "        return True\n",
    "    else:\n",
    "        print(st + \"does not use the correct letters\")\n",
    "        return False"
   ]
  },
  {
   "cell_type": "code",
   "execution_count": 187,
   "id": "3f5d334f",
   "metadata": {},
   "outputs": [],
   "source": [
    "letters = ['e', 'a', 'e', 'e', 'e', 'b', 't', 't', 't']"
   ]
  },
  {
   "cell_type": "code",
   "execution_count": 188,
   "id": "3fd820f2",
   "metadata": {},
   "outputs": [
    {
     "data": {
      "text/plain": [
       "'beat'"
      ]
     },
     "execution_count": 188,
     "metadata": {},
     "output_type": "execute_result"
    }
   ],
   "source": [
    "word"
   ]
  },
  {
   "cell_type": "code",
   "execution_count": 190,
   "id": "91019805",
   "metadata": {},
   "outputs": [
    {
     "name": "stdout",
     "output_type": "stream",
     "text": [
      "Word is not valid. N is not in the list of acceptable letters\n"
     ]
    },
    {
     "data": {
      "text/plain": [
       "False"
      ]
     },
     "execution_count": 190,
     "metadata": {},
     "output_type": "execute_result"
    }
   ],
   "source": [
    "letter_check(\"banl\",letters) and word_check(\"banl\")"
   ]
  },
  {
   "cell_type": "markdown",
   "id": "d3992a3f",
   "metadata": {},
   "source": [
    "# Find the best word"
   ]
  },
  {
   "cell_type": "code",
   "execution_count": null,
   "id": "b2c1eaa0",
   "metadata": {},
   "outputs": [],
   "source": []
  }
 ],
 "metadata": {
  "kernelspec": {
   "display_name": "Python 3",
   "language": "python",
   "name": "python3"
  },
  "language_info": {
   "codemirror_mode": {
    "name": "ipython",
    "version": 3
   },
   "file_extension": ".py",
   "mimetype": "text/x-python",
   "name": "python",
   "nbconvert_exporter": "python",
   "pygments_lexer": "ipython3",
   "version": "3.6.13"
  }
 },
 "nbformat": 4,
 "nbformat_minor": 5
}
