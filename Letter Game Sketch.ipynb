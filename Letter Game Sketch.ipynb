{
 "cells": [
  {
   "cell_type": "markdown",
   "id": "b6fa5782",
   "metadata": {},
   "source": [
    "# Word game\n",
    "https://wiki.apterous.org/Letters_game\n",
    "\n",
    "Contestant chooses 9 letters by selecting either a vowel or a consonant until there is a total of 9 letters. The player can choose the letters in any order, but the selection must include at least 4 consonants and 3 vowels, hence there are only three valid choices in modern Countdown: 3 vowels, 6 consonants; 4 vowels, 5 consonants; and 5 vowels, 4 consonants\n",
    "\n",
    "Distribution of letters: http://www.thecountdownpage.com/letters.htm\n",
    "\n",
    "Steps:\n",
    "1. Create the letter distribution\n",
    "2. Select the letters. There must be a minimum of 3 vowels and minimum of 4 consonants. Maximum of 5 vowels and 6 consonants. \n",
    "3. Create the checker. One to check the user input. Another to find if there's a longer word. "
   ]
  },
  {
   "cell_type": "markdown",
   "id": "4aff923c",
   "metadata": {},
   "source": [
    "# Letter Pickers"
   ]
  },
  {
   "cell_type": "code",
   "execution_count": 1,
   "id": "2e2412f9",
   "metadata": {},
   "outputs": [],
   "source": [
    "#https://stackoverflow.com/questions/2570690/python-algorithm-to-randomly-select-a-key-based-on-proportionality-weight\n",
    "import random\n",
    "\n",
    "def weighted_pick(dic):\n",
    "    r = random.uniform(0, sum(dic.values()))\n",
    "    s = 0.0\n",
    "    for k, w in dic.items():\n",
    "        s += w\n",
    "        if r < s: return k\n",
    "    return k"
   ]
  },
  {
   "cell_type": "code",
   "execution_count": 2,
   "id": "9a846ca6",
   "metadata": {},
   "outputs": [],
   "source": [
    "def letter_classifier(st):\n",
    "    vowel_count = 0\n",
    "    consonant_count = 0\n",
    "    for i in st:\n",
    "        if i in 'aeiou':\n",
    "            vowel_count += 1\n",
    "        elif i in 'bcdfghjklmnpqrstvwxyz':\n",
    "            consonant_count += 1\n",
    "    return vowel_count,consonant_count"
   ]
  },
  {
   "cell_type": "code",
   "execution_count": 3,
   "id": "43117004",
   "metadata": {},
   "outputs": [],
   "source": [
    "def letter_adder(dic):\n",
    "    letter = weighted_pick(dic)\n",
    "    dic[letter] -=1\n",
    "    print(dic)\n",
    "    return letter"
   ]
  },
  {
   "cell_type": "code",
   "execution_count": 4,
   "id": "b61699b6",
   "metadata": {},
   "outputs": [],
   "source": [
    "def pick_letters():\n",
    "    vowels = {\"a\":15,\"e\":21,\"i\":13,\"o\":13,\"u\":5}\n",
    "    consonants = {\"b\":2,\"c\":3,\"d\":6,\"f\":2,\"g\":3,\"h\":2,\"j\":1,\"k\":1,\"l\":5,\"m\":4,\"n\":8,\"p\":4,\"q\":1,\"r\":9,\"s\":9,\"t\":9,\"v\":1,\"w\":1,\"x\":1,\"y\":1,\"z\":1}\n",
    "    letters = []\n",
    "    while len(letters)<9:\n",
    "        choice = input(\"(V)owel or (C)onsonant?\")\n",
    "        reqs = True\n",
    "        if choice.lower() == \"v\":\n",
    "            let = letter_adder(vowels)\n",
    "            print(let)\n",
    "            letters.append(let)\n",
    "        elif choice.lower() == \"c\":\n",
    "            let = letter_adder(consonants)\n",
    "            print(let)\n",
    "            letters.append(let)\n",
    "        else:\n",
    "            print(\"Choose a vowel by typing V, or a consonant by typing C.\")\n",
    "\n",
    "        letters_string = \"\".join(letters)\n",
    "        v,c = letter_classifier(letters_string)\n",
    "\n",
    "        while c == 6 and len(letters)<9:\n",
    "            print(\"Maximum number of consonants reached. Filling with vowels.\")\n",
    "            let = letter_adder(vowels)\n",
    "            print(let)\n",
    "            letters.append(let)\n",
    "        while v == 5 and len(letters)<9:\n",
    "            print(\"Maximum number of vowels reached. Filling with consonants.\")\n",
    "            let = letter_adder(consonants)\n",
    "            print(let)\n",
    "            letters.append(let) \n",
    "    return letters"
   ]
  },
  {
   "cell_type": "markdown",
   "id": "16bc515d",
   "metadata": {},
   "source": [
    "# Word input"
   ]
  },
  {
   "cell_type": "code",
   "execution_count": 5,
   "id": "cd39f11b",
   "metadata": {},
   "outputs": [],
   "source": [
    "#word = input(\"What is your word?\")"
   ]
  },
  {
   "cell_type": "markdown",
   "id": "01965250",
   "metadata": {},
   "source": [
    "# Word List"
   ]
  },
  {
   "cell_type": "code",
   "execution_count": 6,
   "id": "ca896cfe",
   "metadata": {},
   "outputs": [],
   "source": [
    "import pandas as pd"
   ]
  },
  {
   "cell_type": "code",
   "execution_count": 7,
   "id": "672470f6",
   "metadata": {},
   "outputs": [],
   "source": [
    "df = pd.read_excel(\"Words.xlsx\", engine='openpyxl')"
   ]
  },
  {
   "cell_type": "markdown",
   "id": "1edd938f",
   "metadata": {},
   "source": [
    "# Word Checker"
   ]
  },
  {
   "cell_type": "code",
   "execution_count": 8,
   "id": "7a357ea4",
   "metadata": {},
   "outputs": [],
   "source": [
    "def word_check(st):\n",
    "    #convert string to set in order to match alphagram\n",
    "    st = st.upper()\n",
    "    word = \"\".join(sorted(st))\n",
    "    ref = df[[\"Alphagram\",\"Word(s)\"]]\n",
    "    #does the alphagram match?\n",
    "    alpha_match = (ref[\"Alphagram\"]==word).any()\n",
    "    if alpha_match:\n",
    "        #sometimes there are multiple words that match the alphagram, so need to make sure that the word was spelled correctly\n",
    "        ref_word = ref[(ref[\"Alphagram\"]==word)][\"Word(s)\"].values[0]\n",
    "        if \"/\" in ref_word:\n",
    "            ref_words = ref_word.split(\"/\")\n",
    "            if st in ref_words:\n",
    "                print(st + \" is an acceptable word.\")\n",
    "                return True\n",
    "            else:\n",
    "                print(st + \" is not an acceptable word.\")\n",
    "                return False\n",
    "        elif st == ref_word:\n",
    "            print(st + \" is an acceptable word.\")\n",
    "            return True\n",
    "        else:\n",
    "            print(st + \" is not an acceptable word.\")\n",
    "            return False\n",
    "    else:\n",
    "        print(st + \" is not an acceptable word.\")\n",
    "        return False"
   ]
  },
  {
   "cell_type": "code",
   "execution_count": 9,
   "id": "1eb35a62",
   "metadata": {},
   "outputs": [],
   "source": [
    "def letter_check(st,letter_list):\n",
    "    #need to check that the user input string uses only letters from the letter list and doesn't go over the limit\n",
    "    #can't use sets because repeated letters are OK\n",
    "    if len(st) > 9:\n",
    "        print(\"Too many letters in \"+ st)\n",
    "        return False\n",
    "    word_list = list(st)\n",
    "    temp_letters = list(letter_list) #had to do this step or else the letter list got overwritten\n",
    "    while (len(word_list))>0:\n",
    "        if word_list[0] in temp_letters:\n",
    "            temp_letters.remove(word_list[0])\n",
    "            word_list.remove(word_list[0])\n",
    "        else:\n",
    "            print(\"Word is not valid. \"+word_list[0].upper() +\" is not in the list of acceptable letters\")\n",
    "            return False\n",
    "            break\n",
    "    if len(word_list)==0:\n",
    "        return True\n",
    "    else:\n",
    "        print(st + \"does not use the correct letters\")\n",
    "        return False"
   ]
  },
  {
   "cell_type": "code",
   "execution_count": 10,
   "id": "91019805",
   "metadata": {},
   "outputs": [],
   "source": [
    "#letter_check(word,letters) and word_check(word)"
   ]
  },
  {
   "cell_type": "markdown",
   "id": "d3992a3f",
   "metadata": {},
   "source": [
    "# Find the best word"
   ]
  },
  {
   "cell_type": "code",
   "execution_count": 11,
   "id": "01883b7e",
   "metadata": {},
   "outputs": [],
   "source": [
    "word_key = list(df[\"Single Word\"].dropna())"
   ]
  },
  {
   "cell_type": "code",
   "execution_count": 12,
   "id": "b2c1eaa0",
   "metadata": {},
   "outputs": [],
   "source": [
    "def best_word(letter_list):\n",
    "    matches = []\n",
    "    for w in word_key:\n",
    "        word_alpha = sorted(list(w))\n",
    "        alpha = sorted([x.upper() for x in letter_list])\n",
    "        while len(word_alpha) > 0:\n",
    "            if word_alpha[0] in alpha:\n",
    "                alpha.remove(word_alpha[0])\n",
    "                word_alpha.remove(word_alpha[0])\n",
    "            else:\n",
    "                break\n",
    "        if len(word_alpha) == 0:\n",
    "            matches.append(w)\n",
    "        else:\n",
    "            continue\n",
    "    best_df = df[df[\"Single Word\"].isin(matches)]\n",
    "    best_length = best_df[\"Length\"].max()\n",
    "    best = best_df[best_df[\"Length\"]==best_length].sort_values(by=\"Weighted Usefulness Score\",ascending=False)[\"Single Word\"].reset_index(drop=True)[0]\n",
    "    return matches,best"
   ]
  },
  {
   "cell_type": "code",
   "execution_count": 13,
   "id": "6e8b16e4",
   "metadata": {},
   "outputs": [],
   "source": [
    "#dictionary lookup\n",
    "from PyDictionary import PyDictionary\n",
    "dictionary=PyDictionary()\n",
    "\n",
    "def best_lookup(word):\n",
    "    meaning = dictionary.meaning(word)\n",
    "    return meaning"
   ]
  },
  {
   "cell_type": "markdown",
   "id": "ad0624e0",
   "metadata": {},
   "source": [
    "# all together"
   ]
  },
  {
   "cell_type": "code",
   "execution_count": 14,
   "id": "6beedf08",
   "metadata": {},
   "outputs": [],
   "source": [
    "import time"
   ]
  },
  {
   "cell_type": "code",
   "execution_count": 15,
   "id": "9e2e1d0f",
   "metadata": {},
   "outputs": [
    {
     "name": "stdout",
     "output_type": "stream",
     "text": [
      "(V)owel or (C)onsonant?v\n",
      "{'a': 15, 'e': 21, 'i': 13, 'o': 12, 'u': 5}\n",
      "o\n",
      "(V)owel or (C)onsonant?v\n",
      "{'a': 14, 'e': 21, 'i': 13, 'o': 12, 'u': 5}\n",
      "a\n",
      "(V)owel or (C)onsonant?c\n",
      "{'b': 2, 'c': 3, 'd': 6, 'f': 2, 'g': 2, 'h': 2, 'j': 1, 'k': 1, 'l': 5, 'm': 4, 'n': 8, 'p': 4, 'q': 1, 'r': 9, 's': 9, 't': 9, 'v': 1, 'w': 1, 'x': 1, 'y': 1, 'z': 1}\n",
      "g\n",
      "(V)owel or (C)onsonant?c\n",
      "{'b': 2, 'c': 3, 'd': 6, 'f': 2, 'g': 2, 'h': 2, 'j': 1, 'k': 1, 'l': 5, 'm': 4, 'n': 8, 'p': 3, 'q': 1, 'r': 9, 's': 9, 't': 9, 'v': 1, 'w': 1, 'x': 1, 'y': 1, 'z': 1}\n",
      "p\n",
      "(V)owel or (C)onsonant?c\n",
      "{'b': 2, 'c': 3, 'd': 6, 'f': 2, 'g': 2, 'h': 2, 'j': 1, 'k': 1, 'l': 5, 'm': 4, 'n': 8, 'p': 2, 'q': 1, 'r': 9, 's': 9, 't': 9, 'v': 1, 'w': 1, 'x': 1, 'y': 1, 'z': 1}\n",
      "p\n",
      "(V)owel or (C)onsonant?c\n",
      "{'b': 2, 'c': 3, 'd': 6, 'f': 2, 'g': 2, 'h': 2, 'j': 0, 'k': 1, 'l': 5, 'm': 4, 'n': 8, 'p': 2, 'q': 1, 'r': 9, 's': 9, 't': 9, 'v': 1, 'w': 1, 'x': 1, 'y': 1, 'z': 1}\n",
      "j\n",
      "(V)owel or (C)onsonant?v\n",
      "{'a': 14, 'e': 20, 'i': 13, 'o': 12, 'u': 5}\n",
      "e\n",
      "(V)owel or (C)onsonant?c\n",
      "{'b': 2, 'c': 3, 'd': 6, 'f': 2, 'g': 2, 'h': 2, 'j': 0, 'k': 1, 'l': 5, 'm': 4, 'n': 7, 'p': 2, 'q': 1, 'r': 9, 's': 9, 't': 9, 'v': 1, 'w': 1, 'x': 1, 'y': 1, 'z': 1}\n",
      "n\n",
      "(V)owel or (C)onsonant?v\n",
      "{'a': 14, 'e': 20, 'i': 12, 'o': 12, 'u': 5}\n",
      "i\n",
      "OAGPPJENI\n",
      "What is your word?gape\n",
      "GAPE is an acceptable word.\n",
      "Possible words were: \n",
      "['GO', 'JA', 'JO', 'NI', 'OI', 'PA', 'GIE', 'JIG', 'JOE', 'OGI', 'AJI', 'JOG', 'PIG', 'PIN', 'AGI', 'POI', 'AGE', 'AIE', 'GAP', 'GEO', 'GIN', 'JAG', 'JAP', 'NAE', 'NAG', 'NAI', 'NIE', 'NOA', 'NOG', 'NOI', 'OGA', 'ONE', 'OPA', 'OPE', 'PEA', 'PEG', 'PIA', 'PIE', 'AGIO', 'JIAO', 'AJOG', 'PEAI', 'OPIE', 'JEON', 'NAEO', 'POAG', 'JEAN', 'POGE', 'JAPE', 'POPE', 'PIPE', 'PINE', 'GONE', 'JOIN', 'JING', 'PING', 'GAIN', 'PION', 'AGON', 'EINA', 'JONG', 'NAGE', 'NOIA', 'NOPA', 'PANG', 'PAPE', 'PEAG', 'PEAN', 'PINA', 'PIPA', 'PONE', 'PONG', 'NAIEO', 'OPINE', 'POENA', 'POPIA', 'GENOA', 'PIANO', 'GIPPO', 'PAIPE', 'NAPPE', 'PENGO', 'JINGO', 'NGAIO', 'PEPON', 'PONGA', 'IPPON', 'GENIO', 'PINGO', 'PAGNE', 'PINGA', 'PINGE', 'PEPINO', 'PIGEON', 'PIPAGE', 'PINGAO', 'JAPING', 'POPING', 'PIGPEN', 'POPEING', 'GENIPAP', 'JAPPING', 'GENIPAPO']\n",
      "The best word was GENIPAPO\n",
      "Error: The Following Error occured: list index out of range\n",
      "None\n"
     ]
    }
   ],
   "source": [
    "letters = pick_letters()\n",
    "print(\"\".join(letters).upper())\n",
    "#time.sleep(30)\n",
    "word = input(\"What is your word?\")\n",
    "if letter_check(word,letters) and word_check(word):\n",
    "    possible, bestword = best_word(letters)\n",
    "    print(\"Possible words were: \")\n",
    "    print(possible)\n",
    "    print(\"The best word was \"+ bestword)\n",
    "    print(best_lookup(bestword))"
   ]
  },
  {
   "cell_type": "code",
   "execution_count": null,
   "id": "a648a831",
   "metadata": {},
   "outputs": [],
   "source": [
    "#TODO: update to use oxford dictionary for the lookup"
   ]
  }
 ],
 "metadata": {
  "kernelspec": {
   "display_name": "Python 3",
   "language": "python",
   "name": "python3"
  },
  "language_info": {
   "codemirror_mode": {
    "name": "ipython",
    "version": 3
   },
   "file_extension": ".py",
   "mimetype": "text/x-python",
   "name": "python",
   "nbconvert_exporter": "python",
   "pygments_lexer": "ipython3",
   "version": "3.6.13"
  }
 },
 "nbformat": 4,
 "nbformat_minor": 5
}
