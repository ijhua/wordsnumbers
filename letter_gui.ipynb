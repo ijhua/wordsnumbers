{
 "cells": [
  {
   "cell_type": "markdown",
   "id": "b6fa5782",
   "metadata": {},
   "source": [
    "# Word game\n",
    "https://wiki.apterous.org/Letters_game\n",
    "\n",
    "Contestant chooses 9 letters by selecting either a vowel or a consonant until there is a total of 9 letters. The player can choose the letters in any order, but the selection must include at least 4 consonants and 3 vowels, hence there are only three valid choices in modern Countdown: 3 vowels, 6 consonants; 4 vowels, 5 consonants; and 5 vowels, 4 consonants\n",
    "\n",
    "Distribution of letters: http://www.thecountdownpage.com/letters.htm\n",
    "\n",
    "Steps:\n",
    "1. Create the letter distribution\n",
    "2. Select the letters. There must be a minimum of 3 vowels and minimum of 4 consonants. Maximum of 5 vowels and 6 consonants. \n",
    "3. Create the checker. One to check the user input. Another to find if there's a longer word. "
   ]
  },
  {
   "cell_type": "markdown",
   "id": "4aff923c",
   "metadata": {},
   "source": [
    "# Letter Pickers"
   ]
  },
  {
   "cell_type": "code",
   "execution_count": 1,
   "id": "2e2412f9",
   "metadata": {},
   "outputs": [],
   "source": [
    "#https://stackoverflow.com/questions/2570690/python-algorithm-to-randomly-select-a-key-based-on-proportionality-weight\n",
    "import random\n",
    "\n",
    "def weighted_pick(dic):\n",
    "    r = random.uniform(0, sum(dic.values()))\n",
    "    s = 0.0\n",
    "    for k, w in dic.items():\n",
    "        s += w\n",
    "        if r < s: return k\n",
    "    return k"
   ]
  },
  {
   "cell_type": "code",
   "execution_count": 2,
   "id": "9a846ca6",
   "metadata": {},
   "outputs": [],
   "source": [
    "def letter_classifier(st):\n",
    "    vowel_count = 0\n",
    "    consonant_count = 0\n",
    "    for i in st:\n",
    "        if i in 'aeiou':\n",
    "            vowel_count += 1\n",
    "        elif i in 'bcdfghjklmnpqrstvwxyz':\n",
    "            consonant_count += 1\n",
    "    return vowel_count,consonant_count"
   ]
  },
  {
   "cell_type": "code",
   "execution_count": 3,
   "id": "43117004",
   "metadata": {},
   "outputs": [],
   "source": [
    "def letter_adder(dic):\n",
    "    letter = weighted_pick(dic)\n",
    "    dic[letter] -=1\n",
    "    return letter"
   ]
  },
  {
   "cell_type": "markdown",
   "id": "16bc515d",
   "metadata": {},
   "source": [
    "# Word input"
   ]
  },
  {
   "cell_type": "code",
   "execution_count": 4,
   "id": "cd39f11b",
   "metadata": {},
   "outputs": [],
   "source": [
    "#word = input(\"What is your word?\")"
   ]
  },
  {
   "cell_type": "markdown",
   "id": "01965250",
   "metadata": {},
   "source": [
    "# Word List"
   ]
  },
  {
   "cell_type": "code",
   "execution_count": 11,
   "id": "aba15ddf",
   "metadata": {},
   "outputs": [],
   "source": [
    "import pickle\n",
    "import os\n",
    "def resource_path(relative_path):\n",
    "    \"\"\" Get absolute path to resource, works for dev and for PyInstaller \"\"\"\n",
    "    try:\n",
    "        # PyInstaller creates a temp folder and stores path in _MEIPASS\n",
    "        base_path = sys._MEIPASS\n",
    "    except Exception:\n",
    "        base_path = os.path.abspath(\".\")\n",
    "\n",
    "    return os.path.join(base_path, relative_path)\n",
    "word_key = pickle.load(open(resource_path(\"words.pkl\"), 'rb'))"
   ]
  },
  {
   "cell_type": "code",
   "execution_count": 7,
   "id": "eb711169",
   "metadata": {},
   "outputs": [],
   "source": [
    "'''import pandas as pd#make sure that pandas is uninstalled before compiling\n",
    "import pickle\n",
    "df = pd.read_excel(\"Words.xlsx\")\n",
    "all_words = list(df[\"Word(s)\"].dropna())\n",
    "for word in all_words:\n",
    "    if \"/\" in word:\n",
    "        all_words.remove(word)\n",
    "        new_words = word.split(\"/\")\n",
    "        all_words.extend(new_words)'''"
   ]
  },
  {
   "cell_type": "code",
   "execution_count": 8,
   "id": "024c148c",
   "metadata": {},
   "outputs": [],
   "source": [
    "#pickle.dump(all_words,open(\"words.pkl\",\"wb\"))"
   ]
  },
  {
   "cell_type": "markdown",
   "id": "1edd938f",
   "metadata": {},
   "source": [
    "# Word Checker"
   ]
  },
  {
   "cell_type": "code",
   "execution_count": 7,
   "id": "7a357ea4",
   "metadata": {},
   "outputs": [],
   "source": [
    "def word_check(st):\n",
    "    #convert string to set in order to match alphagram\n",
    "    global word_key\n",
    "    st = st.upper()\n",
    "    ref = word_key\n",
    "    if st in ref:\n",
    "        return True\n",
    "    else:\n",
    "        return False"
   ]
  },
  {
   "cell_type": "code",
   "execution_count": 8,
   "id": "1eb35a62",
   "metadata": {},
   "outputs": [],
   "source": [
    "def letter_check(st,letter_list):\n",
    "    #need to check that the user input string uses only letters from the letter list and doesn't go over the limit\n",
    "    #can't use sets because repeated letters are OK\n",
    "    if len(st) > 9:\n",
    "        return False\n",
    "    word_as_list = list(st)\n",
    "    letters_as_list = list(letter_list) #had to do this step or else the letter list got overwritten\n",
    "    while (len(word_as_list))>0:\n",
    "        if word_as_list[0] in letters_as_list:\n",
    "            letters_as_list.remove(word_as_list[0])\n",
    "            word_as_list.remove(word_as_list[0])\n",
    "        else:\n",
    "            return False\n",
    "            break\n",
    "    if len(word_as_list)==0:\n",
    "        return True\n",
    "    else:\n",
    "        return False"
   ]
  },
  {
   "cell_type": "code",
   "execution_count": 9,
   "id": "b7194e85",
   "metadata": {},
   "outputs": [],
   "source": [
    "def nonvalid_word(st,letter_list):\n",
    "    if len(st) > 9:\n",
    "        response = \"Too many letters in \"+ st\n",
    "        return response\n",
    "    word_as_list = list(st)\n",
    "    temp_letters = list(letter_list) #had to do this step or else the letter list got overwritten\n",
    "    while (len(word_as_list))>0:\n",
    "        if word_as_list[0] in temp_letters:\n",
    "            temp_letters.remove(word_as_list[0])\n",
    "            word_as_list.remove(word_as_list[0])\n",
    "        else:\n",
    "            response = word_as_list[0].upper() +\" is not in the list of acceptable letters\"\n",
    "            return response\n",
    "            break\n",
    "    if len(word_as_list)!=0:\n",
    "        response = (st + \"does not use the correct letters\")\n",
    "        return response"
   ]
  },
  {
   "cell_type": "markdown",
   "id": "d3992a3f",
   "metadata": {},
   "source": [
    "# Find the best word"
   ]
  },
  {
   "cell_type": "code",
   "execution_count": 23,
   "id": "b2c1eaa0",
   "metadata": {},
   "outputs": [],
   "source": [
    "def best_word(letter_list):\n",
    "    matches = []\n",
    "    global word_key\n",
    "    for w in word_key:\n",
    "        word_alpha = sorted(list(w))\n",
    "        alpha = sorted([x.upper() for x in letter_list])\n",
    "        while len(word_alpha) > 0:\n",
    "            if word_alpha[0] in alpha:\n",
    "                alpha.remove(word_alpha[0])\n",
    "                word_alpha.remove(word_alpha[0])\n",
    "            else:\n",
    "                break\n",
    "        if len(word_alpha) == 0:\n",
    "            matches.append(w)\n",
    "        else:\n",
    "            continue\n",
    "    sorted_matches = sorted(matches,key=len)\n",
    "    best = sorted_matches[-1]\n",
    "    return sorted_matches,best"
   ]
  },
  {
   "cell_type": "code",
   "execution_count": 13,
   "id": "f8ae06df",
   "metadata": {},
   "outputs": [],
   "source": [
    "from config import *\n",
    "import requests\n",
    "import json"
   ]
  },
  {
   "cell_type": "code",
   "execution_count": 14,
   "id": "235b6bdf",
   "metadata": {},
   "outputs": [],
   "source": [
    "def oxford_lookup(word):\n",
    "    language = 'en-gb'\n",
    "    word_id = word.lower()\n",
    "    url = 'https://od-api.oxforddictionaries.com/api/v2/entries/'  + language + '/'  + word+\"?fields=definitions&strictMatch=false\"\n",
    "    r = requests.get(url, headers = {'app_id' : app_id, 'app_key' : app_key})\n",
    "    defs = []\n",
    "    if r.status_code == 200:\n",
    "        for i in r.json()[\"results\"][0][\"lexicalEntries\"][0][\"entries\"][0][\"senses\"]:\n",
    "            defs.append(i[\"definitions\"][0].capitalize())\n",
    "    else:\n",
    "        defs.append(\"Definition not found. I don't want to pay for more features. Sorry!\")\n",
    "    return defs"
   ]
  },
  {
   "cell_type": "markdown",
   "id": "ad0624e0",
   "metadata": {},
   "source": [
    "# all together"
   ]
  },
  {
   "cell_type": "code",
   "execution_count": 17,
   "id": "a648a831",
   "metadata": {},
   "outputs": [],
   "source": [
    "# next step: into tkinter\n",
    "#start button\n",
    "#buttons for vowel and consonant\n",
    "#30 second timer\n",
    "#box for typing in answer\n",
    "#print out the response"
   ]
  },
  {
   "cell_type": "code",
   "execution_count": 18,
   "id": "76aae457",
   "metadata": {},
   "outputs": [],
   "source": [
    "from tkinter import *\n",
    "from tkinter import ttk"
   ]
  },
  {
   "cell_type": "code",
   "execution_count": 19,
   "id": "0275c534",
   "metadata": {},
   "outputs": [],
   "source": [
    "def pick_vowels():\n",
    "    global vowels\n",
    "    global x\n",
    "    global directions\n",
    "    if len(x.get())<9:\n",
    "        num_vowels = letter_classifier(x.get().lower())[0]\n",
    "        if num_vowels < 5:\n",
    "            let = letter_adder(vowels).upper()\n",
    "            x.set(x.get()+let)\n",
    "        else:\n",
    "            directions.set(directions.get()+\"\\nMax vowels already reached!\")\n",
    "    else:\n",
    "        directions.set(directions.get()+\"\\nMax letters reached!\")\n",
    "        \n",
    "\n",
    "def pick_consonants():\n",
    "    global consonants\n",
    "    global x\n",
    "    global directions\n",
    "    num_consonants = letter_classifier(x.get().lower())[1]\n",
    "    if len(x.get())<9:\n",
    "        if num_consonants < 6:\n",
    "            let = letter_adder(consonants).upper()\n",
    "            x.set(x.get()+let)\n",
    "        else:\n",
    "            directions.set(directions.get()+\"\\nMax consonants already reached!\")\n",
    "    else:\n",
    "        directions.set(directions.get()+\"\\nMax letters reached!\")"
   ]
  },
  {
   "cell_type": "code",
   "execution_count": 28,
   "id": "b698fa50",
   "metadata": {},
   "outputs": [],
   "source": [
    "def eval_word():\n",
    "    global x\n",
    "    global word\n",
    "    global result\n",
    "    letters = list(x.get().lower())\n",
    "    if letter_check(word.get().lower(),letters) and word_check(word.get().lower()):\n",
    "        result.set(result.get()+\"\\n\"+word.get().upper()+\" (\"+str(len(word.get()))+\") \"+\" is acceptable\")\n",
    "    else:\n",
    "        result.set(result.get()+\"Word is not valid. \"+str(nonvalid_word(word.get().lower(),letters)))\n",
    "    possible, bestword = best_word(letters)\n",
    "    possible_str = \", \".join(possible)\n",
    "    result.set(result.get()+\"\\nPossible words were: \"+possible_str+\"\\nA good word: \"+ bestword +\" (\"+str(len(bestword))+\")\")\n",
    "    definition = oxford_lookup(bestword)\n",
    "    if definition is None:\n",
    "        result.set(result.get()+\"\\nDefinition not found\")\n",
    "    else:\n",
    "        word_def = str(definition)\n",
    "        result.set(result.get()+\"\\n\"+word_def)\n",
    "        \n"
   ]
  },
  {
   "cell_type": "code",
   "execution_count": 24,
   "id": "3508686f",
   "metadata": {},
   "outputs": [],
   "source": [
    "def reset():\n",
    "    global default_directions\n",
    "    global default_x\n",
    "    global default_word\n",
    "    global default_result\n",
    "    global directions\n",
    "    global x\n",
    "    global word\n",
    "    global result\n",
    "    directions.set(default_directions)\n",
    "    x.set(default_x)\n",
    "    word.set(default_word)\n",
    "    result.set(default_result)"
   ]
  },
  {
   "cell_type": "code",
   "execution_count": 29,
   "id": "eebf8f50",
   "metadata": {},
   "outputs": [
    {
     "name": "stderr",
     "output_type": "stream",
     "text": [
      "Exception in Tkinter callback\n",
      "Traceback (most recent call last):\n",
      "  File \"/Users/mathuser/anaconda3/envs/wordsnumbers/lib/python3.9/tkinter/__init__.py\", line 1892, in __call__\n",
      "    return self.func(*args)\n",
      "  File \"/var/folders/nd/m4dyffh95zncvzwr4srtj0rm0000gp/T/ipykernel_10679/295111930.py\", line 13, in eval_word\n",
      "    definition = oxford_lookup(bestword)\n",
      "  File \"/var/folders/nd/m4dyffh95zncvzwr4srtj0rm0000gp/T/ipykernel_10679/4238594102.py\", line 8, in oxford_lookup\n",
      "    for i in r.json()[\"results\"][0][\"lexicalEntries\"][0][\"entries\"][0][\"senses\"]:\n",
      "KeyError: 'entries'\n"
     ]
    }
   ],
   "source": [
    "root = Tk()\n",
    "root.title(\"Letters Game\")\n",
    "\n",
    "mainframe = ttk.Frame(root, padding=\"3 3 12 12\")\n",
    "mainframe.grid(column=0, row=0, sticky=(N, W, E, S))\n",
    "root.columnconfigure(0, weight=1)\n",
    "root.rowconfigure(0, weight=1)\n",
    "\n",
    "vowels = {\"a\":15,\"e\":21,\"i\":13,\"o\":13,\"u\":5}\n",
    "consonants = {\"b\":2,\"c\":3,\"d\":6,\"f\":2,\"g\":3,\"h\":2,\"j\":1,\"k\":1,\"l\":5,\"m\":4,\"n\":8,\"p\":4,\"q\":1,\"r\":9,\"s\":9,\"t\":9,\"v\":1,\"w\":1,\"x\":1,\"y\":1,\"z\":1}\n",
    "\n",
    "#default strings\n",
    "default_directions = \"Welcome to the Letter Game!\"+\"\\nChoose 9 letters using the vowel and consonant buttons and form the longest word possible.\"+\" Evaluate the word. See how close you get!\"+\"\\nTODO: add the 30 second time limit. You can time yourself though\"\n",
    "default_x = \"\"\n",
    "\n",
    "\n",
    "directions = StringVar(value=default_directions)\n",
    "x = StringVar()\n",
    "    \n",
    "ttk.Label(mainframe, text=directions.get(), textvariable = directions,wraplength=500).grid(row=0, column=0,columnspan=6)\n",
    "ttk.Label(mainframe, text=x.get(), textvariable = x).grid(row=1, column=1,columnspan=2)\n",
    "ttk.Button(mainframe, text='Vowel', command=pick_vowels).grid(row=2, column=1)\n",
    "ttk.Button(mainframe, text='Consonant', command=pick_consonants).grid(row=2, column=2)\n",
    "\n",
    "ttk.Label(mainframe,text=\"Enter your word here:\").grid(row=3,column=0)\n",
    "\n",
    "default_word = \"\"\n",
    "word = StringVar()\n",
    "word_entry = ttk.Entry(mainframe, textvariable=word)\n",
    "word_entry.grid(row=3,column=1,columnspan=2)\n",
    "\n",
    "default_result = \"\"\n",
    "\n",
    "ttk.Button(mainframe,text=\"Evaluate!\",command=eval_word).grid(row=3,column=3)\n",
    "\n",
    "ttk.Button(mainframe,text=\"Reset\",command=reset).grid(row=4,column=3)\n",
    "\n",
    "result = StringVar()\n",
    "ttk.Label(mainframe, text=result.get(),textvariable=result,wraplength=500).grid(row=5,column=0,columnspan=6)\n",
    "\n",
    "for child in mainframe.winfo_children(): \n",
    "    child.grid_configure(padx=5, pady=5)\n",
    "    \n",
    "root.mainloop()"
   ]
  },
  {
   "cell_type": "code",
   "execution_count": null,
   "id": "f5b966d3",
   "metadata": {},
   "outputs": [],
   "source": []
  }
 ],
 "metadata": {
  "kernelspec": {
   "display_name": "Python 3 (ipykernel)",
   "language": "python",
   "name": "python3"
  },
  "language_info": {
   "codemirror_mode": {
    "name": "ipython",
    "version": 3
   },
   "file_extension": ".py",
   "mimetype": "text/x-python",
   "name": "python",
   "nbconvert_exporter": "python",
   "pygments_lexer": "ipython3",
   "version": "3.9.6"
  }
 },
 "nbformat": 4,
 "nbformat_minor": 5
}
